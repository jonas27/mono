{
 "cells": [
  {
   "cell_type": "code",
   "execution_count": 1,
   "metadata": {},
   "outputs": [
    {
     "output_type": "execute_result",
     "data": {
      "text/plain": "   id              id_str    user_location user_bg_color  retweet_count  \\\n0   1  729828033092149248      Wheeling WV        022330              0   \n1   2  729828033092161537              NaN        C0DEED              0   \n2   3  729828033566224384              NaN        C0DEED              0   \n3   4  729828033893302272           global        C0DEED              0   \n4   5  729828034178482177  California, USA        131516              0   \n\n       user_name  polarity              created  geo  \\\n0     Jaybo26003      0.00  2016-05-10T00:18:57  NaN   \n1  brittttany_ns      0.15  2016-05-10T00:18:57  NaN   \n2   JeffriesLori      0.00  2016-05-10T00:18:57  NaN   \n3    WhorunsGOVs      0.00  2016-05-10T00:18:57  NaN   \n4       BJCG0830      0.00  2016-05-10T00:18:57  NaN   \n\n                                    user_description         user_created  \\\n0                                                NaN  2011-11-17T02:45:42   \n1                                        18 // PSJAN  2012-12-24T17:33:12   \n2                                                NaN  2012-10-11T14:29:59   \n3    Get Latest Global Political news as they unfold  2014-02-16T07:34:24   \n4  Queer Latino invoking his 1st amendment privil...  2009-03-21T01:43:26   \n\n   user_followers coordinates  subjectivity  \\\n0              39         NaN           0.0   \n1            1175         NaN           0.1   \n2              42         NaN           0.0   \n3             290         NaN           0.0   \n4             354         NaN           0.0   \n\n                                                text  \n0  Make a difference vote! WV Bernie Sanders Coul...  \n1  RT @HlPHOPNEWS: T.I. says if Donald Trump wins...  \n2  You have no one to blame but yourselves if Tru...  \n3  'Ruin the rest of their lives': Donald Trump c...  \n4  RT @elianayjohnson: Per source, GOP megadonor ...  ",
      "text/html": "<div>\n<style scoped>\n    .dataframe tbody tr th:only-of-type {\n        vertical-align: middle;\n    }\n\n    .dataframe tbody tr th {\n        vertical-align: top;\n    }\n\n    .dataframe thead th {\n        text-align: right;\n    }\n</style>\n<table border=\"1\" class=\"dataframe\">\n  <thead>\n    <tr style=\"text-align: right;\">\n      <th></th>\n      <th>id</th>\n      <th>id_str</th>\n      <th>user_location</th>\n      <th>user_bg_color</th>\n      <th>retweet_count</th>\n      <th>user_name</th>\n      <th>polarity</th>\n      <th>created</th>\n      <th>geo</th>\n      <th>user_description</th>\n      <th>user_created</th>\n      <th>user_followers</th>\n      <th>coordinates</th>\n      <th>subjectivity</th>\n      <th>text</th>\n    </tr>\n  </thead>\n  <tbody>\n    <tr>\n      <th>0</th>\n      <td>1</td>\n      <td>729828033092149248</td>\n      <td>Wheeling WV</td>\n      <td>022330</td>\n      <td>0</td>\n      <td>Jaybo26003</td>\n      <td>0.00</td>\n      <td>2016-05-10T00:18:57</td>\n      <td>NaN</td>\n      <td>NaN</td>\n      <td>2011-11-17T02:45:42</td>\n      <td>39</td>\n      <td>NaN</td>\n      <td>0.0</td>\n      <td>Make a difference vote! WV Bernie Sanders Coul...</td>\n    </tr>\n    <tr>\n      <th>1</th>\n      <td>2</td>\n      <td>729828033092161537</td>\n      <td>NaN</td>\n      <td>C0DEED</td>\n      <td>0</td>\n      <td>brittttany_ns</td>\n      <td>0.15</td>\n      <td>2016-05-10T00:18:57</td>\n      <td>NaN</td>\n      <td>18 // PSJAN</td>\n      <td>2012-12-24T17:33:12</td>\n      <td>1175</td>\n      <td>NaN</td>\n      <td>0.1</td>\n      <td>RT @HlPHOPNEWS: T.I. says if Donald Trump wins...</td>\n    </tr>\n    <tr>\n      <th>2</th>\n      <td>3</td>\n      <td>729828033566224384</td>\n      <td>NaN</td>\n      <td>C0DEED</td>\n      <td>0</td>\n      <td>JeffriesLori</td>\n      <td>0.00</td>\n      <td>2016-05-10T00:18:57</td>\n      <td>NaN</td>\n      <td>NaN</td>\n      <td>2012-10-11T14:29:59</td>\n      <td>42</td>\n      <td>NaN</td>\n      <td>0.0</td>\n      <td>You have no one to blame but yourselves if Tru...</td>\n    </tr>\n    <tr>\n      <th>3</th>\n      <td>4</td>\n      <td>729828033893302272</td>\n      <td>global</td>\n      <td>C0DEED</td>\n      <td>0</td>\n      <td>WhorunsGOVs</td>\n      <td>0.00</td>\n      <td>2016-05-10T00:18:57</td>\n      <td>NaN</td>\n      <td>Get Latest Global Political news as they unfold</td>\n      <td>2014-02-16T07:34:24</td>\n      <td>290</td>\n      <td>NaN</td>\n      <td>0.0</td>\n      <td>'Ruin the rest of their lives': Donald Trump c...</td>\n    </tr>\n    <tr>\n      <th>4</th>\n      <td>5</td>\n      <td>729828034178482177</td>\n      <td>California, USA</td>\n      <td>131516</td>\n      <td>0</td>\n      <td>BJCG0830</td>\n      <td>0.00</td>\n      <td>2016-05-10T00:18:57</td>\n      <td>NaN</td>\n      <td>Queer Latino invoking his 1st amendment privil...</td>\n      <td>2009-03-21T01:43:26</td>\n      <td>354</td>\n      <td>NaN</td>\n      <td>0.0</td>\n      <td>RT @elianayjohnson: Per source, GOP megadonor ...</td>\n    </tr>\n  </tbody>\n</table>\n</div>"
     },
     "metadata": {},
     "execution_count": 1
    }
   ],
   "source": [
    "import pandas as pd\n",
    "tweets = pd.read_csv(\"tweets.csv\")\n",
    "tweets.head()"
   ]
  },
  {
   "cell_type": "code",
   "execution_count": 2,
   "metadata": {},
   "outputs": [],
   "source": [
    "def get_candidate(row):\n",
    "    candidates = []\n",
    "    text = row[\"text\"].lower()\n",
    "    if \"clinton\" in text or \"hillary\" in text:\n",
    "        candidates.append(\"clinton\")\n",
    "    if \"trump\" in text or \"donald\" in text:\n",
    "        candidates.append(\"trump\")\n",
    "    if \"sanders\" in text or \"bernie\" in text:\n",
    "        candidates.append(\"sanders\")\n",
    "    return \",\".join(candidates)\n",
    "tweets[\"candidate\"] = tweets.apply(get_candidate,axis=1)"
   ]
  },
  {
   "cell_type": "code",
   "execution_count": null,
   "metadata": {},
   "outputs": [],
   "source": []
  }
 ],
 "metadata": {
  "language_info": {
   "codemirror_mode": {
    "name": "ipython",
    "version": 3
   },
   "file_extension": ".py",
   "mimetype": "text/x-python",
   "name": "python",
   "nbconvert_exporter": "python",
   "pygments_lexer": "ipython3",
   "version": "3.8.2-final"
  },
  "orig_nbformat": 2,
  "kernelspec": {
   "name": "python38264bit8072dd2a417d42bab21f8fb1acf2b773",
   "display_name": "Python 3.8.2 64-bit"
  }
 },
 "nbformat": 4,
 "nbformat_minor": 2
}